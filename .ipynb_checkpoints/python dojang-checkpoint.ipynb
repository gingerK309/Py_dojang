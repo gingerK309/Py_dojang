{
 "cells": [
  {
   "cell_type": "code",
   "execution_count": 1,
   "metadata": {},
   "outputs": [
    {
     "name": "stdout",
     "output_type": "stream",
     "text": [
      "Hello, world!\n",
      "Hello, world!\n"
     ]
    }
   ],
   "source": [
    "#파이썬 도장 심사문제 3.8\n",
    "print('Hello, world!')\n",
    "print('Hello, world!')"
   ]
  },
  {
   "cell_type": "code",
   "execution_count": 2,
   "metadata": {},
   "outputs": [
    {
     "name": "stdout",
     "output_type": "stream",
     "text": [
      "286.2\n"
     ]
    }
   ],
   "source": [
    "#심사문제 5.6\n",
    "print(102*0.6+225)"
   ]
  },
  {
   "cell_type": "code",
   "execution_count": 3,
   "metadata": {},
   "outputs": [
    {
     "name": "stdout",
     "output_type": "stream",
     "text": [
      "50\n",
      "100\n",
      "None\n"
     ]
    }
   ],
   "source": [
    "#심사문제 6.7\n",
    "a=50\n",
    "b=100\n",
    "c=None\n",
    "print(a)\n",
    "print(b)\n",
    "print(c)"
   ]
  },
  {
   "cell_type": "code",
   "execution_count": 4,
   "metadata": {},
   "outputs": [
    {
     "name": "stdout",
     "output_type": "stream",
     "text": [
      "30 55 23 55\n",
      "40\n"
     ]
    }
   ],
   "source": [
    "#심사문제 6.8\n",
    "kr,eng,math,sci=map(int,input().split())\n",
    "print((kr+eng+math+sci)//4)"
   ]
  },
  {
   "cell_type": "code",
   "execution_count": 1,
   "metadata": {},
   "outputs": [
    {
     "name": "stdout",
     "output_type": "stream",
     "text": [
      "1990 07 23 08 32 11\n",
      "1990-07-23T08:32:11\n"
     ]
    }
   ],
   "source": [
    "#심사문제 7.5\n",
    "year, month, day, hour, minute, second = input().split()\n",
    "\n",
    "print(year,month,day,sep='-',end='T')\n",
    "print(hour, minute, second, sep=':')"
   ]
  },
  {
   "cell_type": "code",
   "execution_count": 4,
   "metadata": {},
   "outputs": [
    {
     "name": "stdout",
     "output_type": "stream",
     "text": [
      "90 81 86 80\n",
      "True\n"
     ]
    }
   ],
   "source": [
    "#심사문제 8.5\n",
    "kr,eng,math,sci=map(int,input().split())\n",
    "result = kr>=90 and eng>80 and math>80 and sci>=80\n",
    "print(result)"
   ]
  },
  {
   "cell_type": "code",
   "execution_count": 14,
   "metadata": {},
   "outputs": [
    {
     "name": "stdout",
     "output_type": "stream",
     "text": [
      "'Python' is a \"programming language\"\n",
      "that lets you work quickly\n",
      "and\n",
      "integrate systems more effectively.\n"
     ]
    }
   ],
   "source": [
    "#심사문제 9.4\n",
    "s=''''Python' is a \"programming language\"\n",
    "that lets you work quickly\n",
    "and\n",
    "integrate systems more effectively.'''\n",
    "print(s)"
   ]
  },
  {
   "cell_type": "code",
   "execution_count": 47,
   "metadata": {},
   "outputs": [
    {
     "name": "stdout",
     "output_type": "stream",
     "text": [
      "3\n",
      "(-10, -7, -4, -1, 2, 5, 8)\n"
     ]
    }
   ],
   "source": [
    "#심사문제 10.5\n",
    "x=int(input())\n",
    "t=tuple(range(-10,10,x))\n",
    "print(t)"
   ]
  },
  {
   "cell_type": "code",
   "execution_count": 186,
   "metadata": {},
   "outputs": [
    {
     "name": "stdout",
     "output_type": "stream",
     "text": [
      "1 2 3 4 5 6 7 8 9 10\n",
      "('1', '2', '3', '4', '5')\n"
     ]
    }
   ],
   "source": [
    "#심사문제 11.7\n",
    "x = input().split()\n",
    "del x[len(x):-6:-1]\n",
    "#del x[-5:]\n",
    "print(tuple(x))"
   ]
  },
  {
   "cell_type": "code",
   "execution_count": 7,
   "metadata": {},
   "outputs": [
    {
     "name": "stdout",
     "output_type": "stream",
     "text": [
      "python\n",
      "python\n",
      "yhnpto\n"
     ]
    }
   ],
   "source": [
    "#심사문제 11.9\n",
    "s1=input()\n",
    "s2=input()\n",
    "print(s1[1::2]+s2[::2])"
   ]
  },
  {
   "cell_type": "code",
   "execution_count": 1,
   "metadata": {},
   "outputs": [
    {
     "name": "stdout",
     "output_type": "stream",
     "text": [
      "health mana melee attack_speed magic_resistance\n",
      "573.6 308.8 600 0.625 35.7\n",
      "{'health': 573.6, 'mana': 308.8, 'melee': 600.0, 'attack_speed': 0.625, 'magic_resistance': 35.7}\n"
     ]
    }
   ],
   "source": [
    "#심사문제 12.5\n",
    "key=input().split()\n",
    "val=map(float,input().split())\n",
    "x=dict(zip(key,val))\n",
    "print(x)"
   ]
  },
  {
   "cell_type": "code",
   "execution_count": 14,
   "metadata": {},
   "outputs": [
    {
     "name": "stdout",
     "output_type": "stream",
     "text": [
      "72000\n",
      "Cash5000\n",
      "67000\n"
     ]
    }
   ],
   "source": [
    "#심사문제 13.7\n",
    "price=int(input())\n",
    "coupon=input()\n",
    "if coupon=='Cash3000':\n",
    "    price-=3000\n",
    "if coupon=='Cash5000':\n",
    "    price-=5000\n",
    "print(price)"
   ]
  },
  {
   "cell_type": "code",
   "execution_count": 42,
   "metadata": {},
   "outputs": [
    {
     "name": "stdout",
     "output_type": "stream",
     "text": [
      "99 85 101 90\n",
      "잘못된 점수\n"
     ]
    }
   ],
   "source": [
    "#심사문제 14.7\n",
    "kr,eng,math,sci=map(int,input().split())\n",
    "avg=(kr+eng+math+sci)/4\n",
    "if 0<=kr<=100 and 0<=eng<=100 and 0<=math<=100 and 0<=sci<=100:\n",
    "    if avg>=80 :\n",
    "           print('합격')\n",
    "    else:\n",
    "           print('불합격')\n",
    "else:\n",
    "    print('잘못된 점수') "
   ]
  },
  {
   "cell_type": "code",
   "execution_count": 52,
   "metadata": {},
   "outputs": [
    {
     "name": "stdout",
     "output_type": "stream",
     "text": [
      "12\n",
      "8350\n"
     ]
    }
   ],
   "source": [
    "#심사문제 15.4\n",
    "age = int(input())\n",
    "balance = 9000    # 교통카드 잔액\n",
    "if 7<=age<=12:\n",
    "    balance-=650\n",
    "elif 13<=age<=18:\n",
    "    balance-=1050\n",
    "elif age>=19:\n",
    "    balance-=1250\n",
    "print(balance)"
   ]
  },
  {
   "cell_type": "code",
   "execution_count": 15,
   "metadata": {},
   "outputs": [
    {
     "name": "stdout",
     "output_type": "stream",
     "text": [
      "7\n",
      "7 * 1 = 7\n",
      "7 * 2 = 14\n",
      "7 * 3 = 21\n",
      "7 * 4 = 28\n",
      "7 * 5 = 35\n",
      "7 * 6 = 42\n",
      "7 * 7 = 49\n",
      "7 * 8 = 56\n",
      "7 * 9 = 63\n"
     ]
    }
   ],
   "source": [
    "#심사문제 16.6 \n",
    "x=int(input())\n",
    "for i in range(1,10):\n",
    "    print(x,'*', i,'=',x*i)"
   ]
  },
  {
   "cell_type": "code",
   "execution_count": 57,
   "metadata": {},
   "outputs": [
    {
     "name": "stdout",
     "output_type": "stream",
     "text": [
      "13500\n",
      "12150\n",
      "10800\n",
      "9450\n",
      "8100\n",
      "6750\n",
      "5400\n",
      "4050\n",
      "2700\n",
      "1350\n",
      "0\n"
     ]
    }
   ],
   "source": [
    "#심사문제 17.6 \n",
    "x=int(input())\n",
    "while x>=1350:\n",
    "    x-=1350\n",
    "    print(x)"
   ]
  },
  {
   "cell_type": "code",
   "execution_count": 5,
   "metadata": {},
   "outputs": [
    {
     "name": "stdout",
     "output_type": "stream",
     "text": [
      "21 33\n",
      "21 22 24 25 26 27 28 29 30 31 32 "
     ]
    }
   ],
   "source": [
    "#심사문제 18.6\n",
    "start, stop = map(int, input().split())\n",
    " \n",
    "i = start\n",
    " \n",
    "while True:\n",
    "    if i%10==3:\n",
    "        i+=1\n",
    "        continue\n",
    "    if i>stop:\n",
    "        break\n",
    "    print(i, end=' ')\n",
    "    i += 1"
   ]
  },
  {
   "cell_type": "code",
   "execution_count": 43,
   "metadata": {},
   "outputs": [
    {
     "name": "stdout",
     "output_type": "stream",
     "text": [
      "*********\n",
      " *******\n",
      "  *****\n",
      "   ***\n",
      "    *\n",
      "    *\n",
      "   ***\n",
      "  *****\n",
      " *******\n",
      "*********\n",
      "5\n",
      "    *     \n",
      "   ***    \n",
      "  *****   \n",
      " *******  \n",
      "********* \n"
     ]
    }
   ],
   "source": [
    "for i in range(5):\n",
    "    for j in range(5):\n",
    "        if j<i:\n",
    "            print(' ',end='')\n",
    "        else:\n",
    "            print('*',end='')\n",
    "        if j>i:\n",
    "            print('*',end='')\n",
    "    print()\n",
    "for i in range(5):\n",
    "    for j in reversed(range(5)):\n",
    "        if j>i:\n",
    "            print(' ',end='')\n",
    "        else:\n",
    "            print('*',end='')\n",
    "        if j<i:\n",
    "            print('*',end='')\n",
    "    print()\n",
    "x=int(input())\n",
    "#처음 짠 코드\n",
    "for i in range(x):\n",
    "    for j in reversed(range(x)):\n",
    "        if 2*j-i<=j:\n",
    "            print('*',end='')\n",
    "        else:\n",
    "            print(' ',end='')\n",
    "    for j in range(x):\n",
    "        if 2*j<=2*i-1:\n",
    "            print('*',end='')\n",
    "        else:\n",
    "            print(' ',end='')\n",
    "    print()"
   ]
  },
  {
   "cell_type": "code",
   "execution_count": 40,
   "metadata": {},
   "outputs": [
    {
     "name": "stdout",
     "output_type": "stream",
     "text": [
      "5\n",
      "    *\n",
      "   ***\n",
      "  *****\n",
      " *******\n",
      "*********\n"
     ]
    }
   ],
   "source": [
    "#심사문제 19.6\n",
    "x=int(input())\n",
    "for i in range(x):\n",
    "    for j in reversed(range(x)):\n",
    "        if j>i:\n",
    "            print(' ',end='')\n",
    "        else:\n",
    "            print('*',end='')\n",
    "        if j<i:\n",
    "            print('*',end='')\n",
    "    print()"
   ]
  },
  {
   "cell_type": "code",
   "execution_count": 5,
   "metadata": {
    "scrolled": true
   },
   "outputs": [
    {
     "name": "stdout",
     "output_type": "stream",
     "text": [
      "35 40\n",
      "FizzBuzz\n",
      "36\n",
      "37\n",
      "38\n",
      "39\n",
      "Fizz\n"
     ]
    }
   ],
   "source": [
    "#심사문제 20.8\n",
    "start,end=map(int,input().split())\n",
    "for i in range(start,end+1):\n",
    "    if i%5==0 and i%7==0:\n",
    "        print('FizzBuzz')\n",
    "    elif i%5==0:\n",
    "        print('Fizz')\n",
    "    elif i%7==0:\n",
    "        print('Buzz')\n",
    "    else:\n",
    "        print(i)"
   ]
  },
  {
   "cell_type": "code",
   "execution_count": 1,
   "metadata": {},
   "outputs": [
    {
     "name": "stdout",
     "output_type": "stream",
     "text": [
      "6 100\n"
     ]
    },
    {
     "data": {
      "image/png": "[encoded data removed]",
      "text/plain": [
       "<IPython.core.display.Image object>"
      ]
     },
     "execution_count": 1,
     "metadata": {},
     "output_type": "execute_result"
    }
   ],
   "source": [
    "#심사문제 21.6\n",
    "import turtle as t\n",
    "from IPython.display import Image \n",
    "n, line = map(int, input().split())\n",
    "t.shape('turtle')\n",
    "t.speed('fastest')\n",
    "for i in range(n):\n",
    "    t.fd(line)\n",
    "    t.right((360/n)*2)\n",
    "    t.fd(line)\n",
    "    t.left(360/n)\n",
    "t.mainloop()\n",
    "Image(\"turtle.png\")"
   ]
  },
  {
   "cell_type": "code",
   "execution_count": 159,
   "metadata": {},
   "outputs": [
    {
     "name": "stdout",
     "output_type": "stream",
     "text": [
      "10 20\n",
      "[1024, 4096, 8192, 16384, 32768, 65536, 131072, 262144, 1048576]\n"
     ]
    }
   ],
   "source": [
    "#심사문제 22.10 \n",
    "start,end=map(int,input().split())\n",
    "i=start\n",
    "x=[2**i for i in range(i,end+1)]\n",
    "x.pop(1)\n",
    "x.pop(-2)\n",
    "print(x)"
   ]
  },
  {
   "cell_type": "code",
   "execution_count": 12,
   "metadata": {
    "scrolled": true
   },
   "outputs": [
    {
     "name": "stdout",
     "output_type": "stream",
     "text": [
      "5 5\n",
      "..*..\n",
      "...*.\n",
      ".*...\n",
      ".***.\n",
      "*.*..\n",
      "01*21\n",
      "123*1\n",
      "2*532\n",
      "3***1\n",
      "*4*31\n"
     ]
    }
   ],
   "source": [
    "#심사문제 23.7\n",
    "row,col=map(int,input().split())\n",
    "matrix = []\n",
    "for i in range(row):\n",
    "    matrix.append(list(input()))\n",
    "for i in range(row):\n",
    "    for j in range(col):\n",
    "        if matrix[i][j]=='*':\n",
    "            print('*',end='')\n",
    "            continue\n",
    "        else:\n",
    "            matrix[i][j]=0\n",
    "        for y in range(i-1,i+2):\n",
    "            for x in range(j-1,j+2):\n",
    "                if y<0 or y>=row or x<0 or x>=col:\n",
    "                    continue\n",
    "                elif matrix[y][x]=='*':\n",
    "                    matrix[i][j]+=1\n",
    "        print(matrix[i][j],end='')\n",
    "    print()"
   ]
  },
  {
   "cell_type": "code",
   "execution_count": 41,
   "metadata": {},
   "outputs": [
    {
     "name": "stdout",
     "output_type": "stream",
     "text": [
      "the grown-ups' response, this time, was to advise me to lay aside my drawings of boa constrictors, whether from the inside or the outside, and devote myself instead to geography, history, arithmetic, and grammar. That is why, at the, age of six, I gave up what might have been a magnificent career as a painter. I had been disheartened by the failure of my Drawing Number One and my Drawing Number Two. Grown-ups never understand anything by themselves, and it is tiresome for children to be always and forever explaining things to the.\n",
      "6\n"
     ]
    }
   ],
   "source": [
    "#심사문제 24.5\n",
    "x=input()\n",
    "x=x.split()\n",
    "word=[]\n",
    "for i in x:\n",
    "    i=i.strip('.,')\n",
    "    word.append(i)\n",
    "print(word.count('the'))"
   ]
  },
  {
   "cell_type": "code",
   "execution_count": 69,
   "metadata": {},
   "outputs": [
    {
     "name": "stdout",
     "output_type": "stream",
     "text": [
      "51900;83000;158000;367500;250000;59200;128500;1304000\n",
      "1,304,000\n",
      "  367,500\n",
      "  250,000\n",
      "  158,000\n",
      "  128,500\n",
      "   83,000\n",
      "   59,200\n",
      "   51,900\n"
     ]
    }
   ],
   "source": [
    "#처음 짠 코드\n",
    "x=input().split(';')\n",
    "price=[]\n",
    "for i in x:\n",
    "    i=int(i)\n",
    "    price.append(i)\n",
    "price=sorted(price,reverse=True)\n",
    "for i in price:\n",
    "    print('{:>9,}'.format(i))"
   ]
  },
  {
   "cell_type": "code",
   "execution_count": 11,
   "metadata": {},
   "outputs": [
    {
     "name": "stdout",
     "output_type": "stream",
     "text": [
      "alpha bravo charlie delta echo foxtrot golf\n",
      "30 40 50 60 70 80 90\n",
      "{'bravo': 40, 'charlie': 50, 'echo': 70, 'foxtrot': 80, 'golf': 90}\n"
     ]
    }
   ],
   "source": [
    "#심사문제 25.8\n",
    "keys = input().split()\n",
    "values = map(int, input().split())\n",
    "x = dict(zip(keys, values))\n",
    "x={key:value for key,value in x.items() if key!='delta'\n",
    "x={key:value for key,value in x.items() if value!=30}\n",
    "print(x)"
   ]
  }
 ],
 "metadata": {
  "kernelspec": {
   "display_name": "Python 3",
   "language": "python",
   "name": "python3"
  },
  "language_info": {
   "codemirror_mode": {
    "name": "ipython",
    "version": 3
   },
   "file_extension": ".py",
   "mimetype": "text/x-python",
   "name": "python",
   "nbconvert_exporter": "python",
   "pygments_lexer": "ipython3",
   "version": "3.7.6"
  }
 },
 "nbformat": 4,
 "nbformat_minor": 4
}
