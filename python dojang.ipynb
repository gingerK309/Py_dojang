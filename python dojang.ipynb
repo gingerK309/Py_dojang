{
 "cells": [
  {
   "cell_type": "code",
   "execution_count": 1,
   "metadata": {},
   "outputs": [
    {
     "name": "stdout",
     "output_type": "stream",
     "text": [
      "Hello, world!\n",
      "Hello, world!\n"
     ]
    }
   ],
   "source": [
    "#파이썬 도장 심사문제 3.8\n",
    "print('Hello, world!')\n",
    "print('Hello, world!')"
   ]
  },
  {
   "cell_type": "code",
   "execution_count": 2,
   "metadata": {},
   "outputs": [
    {
     "name": "stdout",
     "output_type": "stream",
     "text": [
      "286.2\n"
     ]
    }
   ],
   "source": [
    "#심사문제 5.6\n",
    "print(102*0.6+225)"
   ]
  },
  {
   "cell_type": "code",
   "execution_count": 3,
   "metadata": {},
   "outputs": [
    {
     "name": "stdout",
     "output_type": "stream",
     "text": [
      "50\n",
      "100\n",
      "None\n"
     ]
    }
   ],
   "source": [
    "#심사문제 6.7\n",
    "a=50\n",
    "b=100\n",
    "c=None\n",
    "print(a)\n",
    "print(b)\n",
    "print(c)"
   ]
  },
  {
   "cell_type": "code",
   "execution_count": 4,
   "metadata": {},
   "outputs": [
    {
     "name": "stdout",
     "output_type": "stream",
     "text": [
      "30 55 23 55\n",
      "40\n"
     ]
    }
   ],
   "source": [
    "#심사문제 6.8\n",
    "kr,eng,math,sci=map(int,input().split())\n",
    "print((kr+eng+math+sci)//4)"
   ]
  },
  {
   "cell_type": "code",
   "execution_count": 1,
   "metadata": {},
   "outputs": [
    {
     "name": "stdout",
     "output_type": "stream",
     "text": [
      "1990 07 23 08 32 11\n",
      "1990-07-23T08:32:11\n"
     ]
    }
   ],
   "source": [
    "#심사문제 7.5\n",
    "year, month, day, hour, minute, second = input().split()\n",
    "\n",
    "print(year,month,day,sep='-',end='T')\n",
    "print(hour, minute, second, sep=':')"
   ]
  },
  {
   "cell_type": "code",
   "execution_count": 4,
   "metadata": {},
   "outputs": [
    {
     "name": "stdout",
     "output_type": "stream",
     "text": [
      "90 81 86 80\n",
      "True\n"
     ]
    }
   ],
   "source": [
    "#심사문제 8.5\n",
    "kr,eng,math,sci=map(int,input().split())\n",
    "result = kr>=90 and eng>80 and math>80 and sci>=80\n",
    "print(result)"
   ]
  },
  {
   "cell_type": "code",
   "execution_count": 14,
   "metadata": {},
   "outputs": [
    {
     "name": "stdout",
     "output_type": "stream",
     "text": [
      "'Python' is a \"programming language\"\n",
      "that lets you work quickly\n",
      "and\n",
      "integrate systems more effectively.\n"
     ]
    }
   ],
   "source": [
    "#심사문제 9.4\n",
    "s=''''Python' is a \"programming language\"\n",
    "that lets you work quickly\n",
    "and\n",
    "integrate systems more effectively.'''\n",
    "print(s)"
   ]
  },
  {
   "cell_type": "code",
   "execution_count": 47,
   "metadata": {},
   "outputs": [
    {
     "name": "stdout",
     "output_type": "stream",
     "text": [
      "3\n",
      "(-10, -7, -4, -1, 2, 5, 8)\n"
     ]
    }
   ],
   "source": [
    "#심사문제 10.5\n",
    "x=int(input())\n",
    "t=tuple(range(-10,10,x))\n",
    "print(t)"
   ]
  },
  {
   "cell_type": "code",
   "execution_count": 186,
   "metadata": {},
   "outputs": [
    {
     "name": "stdout",
     "output_type": "stream",
     "text": [
      "1 2 3 4 5 6 7 8 9 10\n",
      "('1', '2', '3', '4', '5')\n"
     ]
    }
   ],
   "source": [
    "#심사문제 11.7\n",
    "x = input().split()\n",
    "del x[len(x):-6:-1]\n",
    "#del x[-5:]\n",
    "print(tuple(x))"
   ]
  },
  {
   "cell_type": "code",
   "execution_count": 7,
   "metadata": {},
   "outputs": [
    {
     "name": "stdout",
     "output_type": "stream",
     "text": [
      "python\n",
      "python\n",
      "yhnpto\n"
     ]
    }
   ],
   "source": [
    "#심사문제 11.9\n",
    "s1=input()\n",
    "s2=input()\n",
    "print(s1[1::2]+s2[::2])"
   ]
  },
  {
   "cell_type": "code",
   "execution_count": 1,
   "metadata": {},
   "outputs": [
    {
     "name": "stdout",
     "output_type": "stream",
     "text": [
      "health mana melee attack_speed magic_resistance\n",
      "573.6 308.8 600 0.625 35.7\n",
      "{'health': 573.6, 'mana': 308.8, 'melee': 600.0, 'attack_speed': 0.625, 'magic_resistance': 35.7}\n"
     ]
    }
   ],
   "source": [
    "#심사문제 12.5\n",
    "key=input().split()\n",
    "val=map(float,input().split())\n",
    "x=dict(zip(key,val))\n",
    "print(x)"
   ]
  },
  {
   "cell_type": "code",
   "execution_count": 14,
   "metadata": {},
   "outputs": [
    {
     "name": "stdout",
     "output_type": "stream",
     "text": [
      "72000\n",
      "Cash5000\n",
      "67000\n"
     ]
    }
   ],
   "source": [
    "#심사문제 13.7\n",
    "price=int(input())\n",
    "coupon=input()\n",
    "if coupon=='Cash3000':\n",
    "    price-=3000\n",
    "if coupon=='Cash5000':\n",
    "    price-=5000\n",
    "print(price)"
   ]
  },
  {
   "cell_type": "code",
   "execution_count": 42,
   "metadata": {},
   "outputs": [
    {
     "name": "stdout",
     "output_type": "stream",
     "text": [
      "99 85 101 90\n",
      "잘못된 점수\n"
     ]
    }
   ],
   "source": [
    "#심사문제 14.7\n",
    "kr,eng,math,sci=map(int,input().split())\n",
    "avg=(kr+eng+math+sci)/4\n",
    "if 0<=kr<=100 and 0<=eng<=100 and 0<=math<=100 and 0<=sci<=100:\n",
    "    if avg>=80 :\n",
    "           print('합격')\n",
    "    else:\n",
    "           print('불합격')\n",
    "else:\n",
    "    print('잘못된 점수') "
   ]
  },
  {
   "cell_type": "code",
   "execution_count": 52,
   "metadata": {},
   "outputs": [
    {
     "name": "stdout",
     "output_type": "stream",
     "text": [
      "12\n",
      "8350\n"
     ]
    }
   ],
   "source": [
    "#심사문제 15.4\n",
    "age = int(input())\n",
    "balance = 9000    # 교통카드 잔액\n",
    "if 7<=age<=12:\n",
    "    balance-=650\n",
    "elif 13<=age<=18:\n",
    "    balance-=1050\n",
    "elif age>=19:\n",
    "    balance-=1250\n",
    "print(balance)"
   ]
  },
  {
   "cell_type": "code",
   "execution_count": 15,
   "metadata": {},
   "outputs": [
    {
     "name": "stdout",
     "output_type": "stream",
     "text": [
      "7\n",
      "7 * 1 = 7\n",
      "7 * 2 = 14\n",
      "7 * 3 = 21\n",
      "7 * 4 = 28\n",
      "7 * 5 = 35\n",
      "7 * 6 = 42\n",
      "7 * 7 = 49\n",
      "7 * 8 = 56\n",
      "7 * 9 = 63\n"
     ]
    }
   ],
   "source": [
    "#심사문제 16.6 \n",
    "x=int(input())\n",
    "for i in range(1,10):\n",
    "    print(x,'*', i,'=',x*i)"
   ]
  },
  {
   "cell_type": "code",
   "execution_count": 57,
   "metadata": {},
   "outputs": [
    {
     "name": "stdout",
     "output_type": "stream",
     "text": [
      "13500\n",
      "12150\n",
      "10800\n",
      "9450\n",
      "8100\n",
      "6750\n",
      "5400\n",
      "4050\n",
      "2700\n",
      "1350\n",
      "0\n"
     ]
    }
   ],
   "source": [
    "#17.6 심사문제\n",
    "x=int(input())\n",
    "while x>=1350:\n",
    "    x-=1350\n",
    "    print(x)"
   ]
  }
 ],
 "metadata": {
  "kernelspec": {
   "display_name": "Python 3",
   "language": "python",
   "name": "python3"
  },
  "language_info": {
   "codemirror_mode": {
    "name": "ipython",
    "version": 3
   },
   "file_extension": ".py",
   "mimetype": "text/x-python",
   "name": "python",
   "nbconvert_exporter": "python",
   "pygments_lexer": "ipython3",
   "version": "3.7.6"
  }
 },
 "nbformat": 4,
 "nbformat_minor": 4
}
